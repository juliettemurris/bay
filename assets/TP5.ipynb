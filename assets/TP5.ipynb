{
  "cells": [
    {
      "cell_type": "markdown",
      "metadata": {
        "id": "94pHuMl_56k8"
      },
      "source": [
        "# TP5 : Introduction au Machine Learning pour la survie\n",
        "\n",
        "- Auteur : Juliette Murris\n",
        "- Date : Janvier 2024\n",
        "\n",
        "\n",
        "L'objectif de ce TP est de se familiariser avec les notions de Machine Learning pour prédire la survie\n",
        "\n",
        "\n",
        "## Prérequis \n",
        "\n",
        "Pour commencer installez les library suivantes :"
      ]
    },
    {
      "cell_type": "code",
      "execution_count": null,
      "metadata": {
        "colab": {
          "base_uri": "https://localhost:8080/"
        },
        "id": "2WILYjz9v4l2",
        "outputId": "33af5e30-a596-41e1-9ba7-f0af144d80a9"
      },
      "outputs": [
        {
          "name": "stdout",
          "output_type": "stream",
          "text": [
            "Collecting scikit-survival\n",
            "  Downloading scikit-survival-0.17.0.tar.gz (2.5 MB)\n",
            "\u001b[K     |████████████████████████████████| 2.5 MB 13.5 MB/s \n",
            "\u001b[?25h  Installing build dependencies ... \u001b[?25l\u001b[?25hdone\n",
            "  Getting requirements to build wheel ... \u001b[?25l\u001b[?25hdone\n",
            "    Preparing wheel metadata ... \u001b[?25l\u001b[?25hdone\n",
            "Requirement already satisfied: numpy in /usr/local/lib/python3.7/dist-packages (from scikit-survival) (1.19.5)\n",
            "Requirement already satisfied: numexpr in /usr/local/lib/python3.7/dist-packages (from scikit-survival) (2.8.1)\n",
            "Requirement already satisfied: ecos in /usr/local/lib/python3.7/dist-packages (from scikit-survival) (2.0.10)\n",
            "Requirement already satisfied: pandas>=0.25 in /usr/local/lib/python3.7/dist-packages (from scikit-survival) (1.1.5)\n",
            "Requirement already satisfied: osqp!=0.6.0,!=0.6.1 in /usr/local/lib/python3.7/dist-packages (from scikit-survival) (0.6.2.post0)\n",
            "Requirement already satisfied: scipy!=1.3.0,>=1.0 in /usr/local/lib/python3.7/dist-packages (from scikit-survival) (1.4.1)\n",
            "Requirement already satisfied: joblib in /usr/local/lib/python3.7/dist-packages (from scikit-survival) (1.1.0)\n",
            "Requirement already satisfied: scikit-learn<1.1,>=1.0.0 in /usr/local/lib/python3.7/dist-packages (from scikit-survival) (1.0.2)\n",
            "Requirement already satisfied: qdldl in /usr/local/lib/python3.7/dist-packages (from osqp!=0.6.0,!=0.6.1->scikit-survival) (0.1.5.post0)\n",
            "Requirement already satisfied: python-dateutil>=2.7.3 in /usr/local/lib/python3.7/dist-packages (from pandas>=0.25->scikit-survival) (2.8.2)\n",
            "Requirement already satisfied: pytz>=2017.2 in /usr/local/lib/python3.7/dist-packages (from pandas>=0.25->scikit-survival) (2018.9)\n",
            "Requirement already satisfied: six>=1.5 in /usr/local/lib/python3.7/dist-packages (from python-dateutil>=2.7.3->pandas>=0.25->scikit-survival) (1.15.0)\n",
            "Requirement already satisfied: threadpoolctl>=2.0.0 in /usr/local/lib/python3.7/dist-packages (from scikit-learn<1.1,>=1.0.0->scikit-survival) (3.0.0)\n",
            "Requirement already satisfied: packaging in /usr/local/lib/python3.7/dist-packages (from numexpr->scikit-survival) (21.3)\n",
            "Requirement already satisfied: pyparsing!=3.0.5,>=2.0.2 in /usr/local/lib/python3.7/dist-packages (from packaging->numexpr->scikit-survival) (3.0.6)\n",
            "Building wheels for collected packages: scikit-survival\n",
            "  Building wheel for scikit-survival (PEP 517) ... \u001b[?25l\u001b[?25hdone\n",
            "  Created wheel for scikit-survival: filename=scikit_survival-0.17.0-cp37-cp37m-linux_x86_64.whl size=4080423 sha256=15b149f6ef3b8cc5b69144641528e2524e205c2fa7d8f98f13b24efa21129ae9\n",
            "  Stored in directory: /root/.cache/pip/wheels/91/c1/99/2c2faacc82ff4f89d27612b1fd905ea35aa24f6a93dd4dcc0d\n",
            "Successfully built scikit-survival\n",
            "Installing collected packages: scikit-survival\n",
            "Successfully installed scikit-survival-0.17.0\n"
          ]
        }
      ],
      "source": [
        "! pip install -U scikit-survival\n"
      ]
    },
    {
      "cell_type": "code",
      "execution_count": null,
      "metadata": {
        "id": "mE4J_JBI56k_"
      },
      "outputs": [],
      "source": [
        "import pandas as pd\n",
        "import matplotlib.pyplot as plt\n",
        "import numpy as np\n",
        "%matplotlib inline\n",
        "\n",
        "from sklearn.model_selection import train_test_split\n",
        "from sklearn.preprocessing import OrdinalEncoder\n",
        "\n",
        "from sksurv.datasets import load_flchain\n",
        "from sksurv.preprocessing import OneHotEncoder\n",
        "from sksurv.ensemble import RandomSurvivalForest\n",
        "from sksurv.tree import SurvivalTree"
      ]
    },
    {
      "cell_type": "markdown",
      "metadata": {
        "id": "5MItBjOU56lA"
      },
      "source": [
        "Dans ce TP nous allons travailler sur le jeu de données **flchain**. Ces données sont issues d'une étude cherchant à évaluer la faculté prédictive des chaînes légères non clonales libres d'immunoglobulines sur le décès. Vous trouverez le détail de ces travaux dans la [publication](https://www.mayoclinicproceedings.org/article/S0025-6196(12)00388-6/fulltext) associée.\n",
        "\n",
        "La table disponible dans la library **sksurv** contient 7874 sujet et les 9 variables suivantes :\n",
        "- Age : en année\n",
        "- Sexe : F=femme, M=homme\n",
        "- sample.yr : année à le prélèvement de sang a eu lieu\n",
        "- kappa : chaîne légère sans sérum, kappa portion\n",
        "- lambda : chaîne légère sans sérum, lambda portion\n",
        "- lc.grp : Groupe défini suivant les chaînes légères sans sérum, comme utilisé dans les analyses initiales\n",
        "- creatinine : taux de créatinine\n",
        "- mgus : 1 si le patient a été diagnostiqué avec une gammapathie monoclonale\n",
        "- chapter : pour les patients décédés, le code CIM10 du la cause pruncipale de décès"
      ]
    },
    {
      "cell_type": "code",
      "execution_count": null,
      "metadata": {
        "id": "6P2gzNMs56lB",
        "scrolled": true
      },
      "outputs": [],
      "source": [
        "# Chargement des données :\n",
        "    # X : Features\n",
        "    # y : outcome ici le décès\n",
        "X, y = load_flchain()"
      ]
    },
    {
      "cell_type": "code",
      "execution_count": null,
      "metadata": {
        "colab": {
          "base_uri": "https://localhost:8080/"
        },
        "id": "oGZHSWRh56lB",
        "outputId": "ed031939-c9d4-4781-8c5d-e03fd968a9c5"
      },
      "outputs": [
        {
          "data": {
            "text/plain": [
              "array([( True,   85.), ( True, 1281.), ( True,   69.), ...,\n",
              "       (False, 2507.), (False, 4982.), (False, 3995.)],\n",
              "      dtype=[('death', '?'), ('futime', '<f8')])"
            ]
          },
          "execution_count": 5,
          "metadata": {},
          "output_type": "execute_result"
        }
      ],
      "source": [
        "y"
      ]
    },
    {
      "cell_type": "markdown",
      "metadata": {
        "id": "t7DhQaN656lC"
      },
      "source": [
        "## Prétraitement des données "
      ]
    },
    {
      "cell_type": "code",
      "execution_count": null,
      "metadata": {
        "colab": {
          "base_uri": "https://localhost:8080/"
        },
        "id": "34_lsu3W56lC",
        "outputId": "9fcaf73e-e053-4965-8d58-bf5138231409"
      },
      "outputs": [
        {
          "name": "stdout",
          "output_type": "stream",
          "text": [
            "       age      chapter  creatinine flc.grp  kappa  lambda mgus sample.yr sex\n",
            "0     97.0  Circulatory         1.7      10  5.700   4.860   no      1997   F\n",
            "1     92.0    Neoplasms         0.9       1  0.870   0.683   no      2000   F\n",
            "2     94.0  Circulatory         1.4      10  4.360   3.850   no      1997   F\n",
            "3     92.0  Circulatory         1.0       9  2.420   2.220   no      1996   F\n",
            "4     93.0  Circulatory         1.1       6  1.320   1.690   no      1996   F\n",
            "...    ...          ...         ...     ...    ...     ...  ...       ...  ..\n",
            "7869  52.0          NaN         1.0       6  1.210   1.610   no      1995   F\n",
            "7870  52.0          NaN         0.8       1  0.858   0.581   no      1999   F\n",
            "7871  54.0          NaN         NaN       8  1.700   1.720   no      2002   F\n",
            "7872  53.0          NaN         NaN       9  1.710   2.690   no      1995   F\n",
            "7873  50.0          NaN         0.7       4  1.190   1.250   no      1998   F\n",
            "\n",
            "[7874 rows x 9 columns]\n"
          ]
        },
        {
          "data": {
            "text/plain": [
              "age            float64\n",
              "chapter       category\n",
              "creatinine     float64\n",
              "flc.grp       category\n",
              "kappa          float64\n",
              "lambda         float64\n",
              "mgus          category\n",
              "sample.yr     category\n",
              "sex           category\n",
              "dtype: object"
            ]
          },
          "execution_count": 6,
          "metadata": {},
          "output_type": "execute_result"
        }
      ],
      "source": [
        "# On visualise les données \n",
        "print(X)\n",
        "# On regarde le type des données\n",
        "X.dtypes"
      ]
    },
    {
      "cell_type": "markdown",
      "metadata": {
        "id": "M0P8MsVZ56lD"
      },
      "source": [
        "On remarque qu'il y a des valeurs manquante dans la base. \n",
        "Le code suivant permet de quantifier les valeurs manquantes dans chacune des variables."
      ]
    },
    {
      "cell_type": "code",
      "execution_count": null,
      "metadata": {
        "colab": {
          "base_uri": "https://localhost:8080/"
        },
        "id": "JwSLmggh56lD",
        "outputId": "75d696b4-418f-4800-a736-57a1b89c479d"
      },
      "outputs": [
        {
          "name": "stdout",
          "output_type": "stream",
          "text": [
            "age              0\n",
            "chapter       5705\n",
            "creatinine    1350\n",
            "flc.grp          0\n",
            "kappa            0\n",
            "lambda           0\n",
            "mgus             0\n",
            "sample.yr        0\n",
            "sex              0\n",
            "dtype: int64\n"
          ]
        }
      ],
      "source": [
        "print(X.isnull().sum())"
      ]
    },
    {
      "cell_type": "markdown",
      "metadata": {
        "id": "tNoCEenf56lE"
      },
      "source": [
        "On observe qu'il y a 1350 valeurs manquantes pour la variable créatinine et 5705 pour la variables chapter. Pour la seconde variable cela peut s'expliquer par le fait que seul les patients décédés ont cette variables renseignées. Cette variable ne sera pas utilisée pour prédire le décès. On peut donc supprimer cette variable de la table X.\n",
        "\n",
        "On décide ici d'imputer la variable créatinine par sa médiane. **ATTENTION** : en pratique, il faut réfléchir un peu plus à la gestion des données manquantes. "
      ]
    },
    {
      "cell_type": "code",
      "execution_count": null,
      "metadata": {
        "colab": {
          "base_uri": "https://localhost:8080/"
        },
        "id": "tEhNUNi556lE",
        "outputId": "6ea58536-b522-4000-a6c8-54bbb5a38dc7"
      },
      "outputs": [
        {
          "name": "stdout",
          "output_type": "stream",
          "text": [
            "age           0\n",
            "creatinine    0\n",
            "flc.grp       0\n",
            "kappa         0\n",
            "lambda        0\n",
            "mgus          0\n",
            "sample.yr     0\n",
            "sex           0\n",
            "dtype: int64\n"
          ]
        }
      ],
      "source": [
        "#On supprime la variable chapter\n",
        "\n",
        "#On supprime les patients avec au moins une valeur manquante\n",
        "\n",
        "#On vérifie qu'il n'y a plus de valeurs manquantes\n"
      ]
    },
    {
      "cell_type": "markdown",
      "metadata": {
        "id": "rHuz0Xcm56lE"
      },
      "source": [
        "Pour pouvoir facilement utiliser les données ont va transformer les données qualitatives en variables booléennes et on vérifie que les variables continues sont bien en numérique."
      ]
    },
    {
      "cell_type": "code",
      "execution_count": 1,
      "metadata": {
        "id": "VJt0Q_Hu56lF"
      },
      "outputs": [],
      "source": [
        "#On identifie les variables quantitatives\n",
        "\n",
        "#On vérifie les types\n",
        "\n",
        "#On remarque que la variable flc.grp est codé en catégorie. On la transforme donc en numerique\n",
        "\n",
        "#On récupère le noms des variables\n"
      ]
    },
    {
      "cell_type": "code",
      "execution_count": null,
      "metadata": {
        "id": "9yBnZ7ty56lF"
      },
      "outputs": [],
      "source": [
        "#On identifie les variables quantitatives\n",
        "\n",
        "#On récupère le noms des variables\n",
        "\n",
        "#On les transforme en variable booléenne\n"
      ]
    },
    {
      "cell_type": "code",
      "execution_count": null,
      "metadata": {
        "id": "Pgr3Yzk156lF"
      },
      "outputs": [],
      "source": [
        "#On compile variables quanti et quali\n"
      ]
    },
    {
      "cell_type": "markdown",
      "metadata": {
        "id": "GP6UM7nv56lF"
      },
      "source": [
        "Enfin, on termine cette partie de prétraitement des données par créer une base de test et une base d'entrainement."
      ]
    },
    {
      "cell_type": "code",
      "execution_count": null,
      "metadata": {
        "id": "mBHqdUaM56lG"
      },
      "outputs": [],
      "source": [
        "#Réponse \n",
        "#\n",
        "#\n",
        "#\n",
        "#\n",
        "#\n",
        "#\n",
        "#"
      ]
    },
    {
      "cell_type": "markdown",
      "metadata": {
        "id": "pRSOS9et56lG"
      },
      "source": [
        "## Entrainement du modèle de survie"
      ]
    },
    {
      "cell_type": "markdown",
      "metadata": {
        "id": "pa1S3goI56lG"
      },
      "source": [
        "#### <span style='color: #a13203; font-weight: 600;'>💬 Question 1 </span> Définissez une forêt aléatoire de survie avec : \n",
        "- 100 arbres, \n",
        "- $\\sqrt{\\text{nombre de covariables}}$ variables testées à chaque noeud\n",
        "\n",
        "et en fixant la graine de simulation."
      ]
    },
    {
      "cell_type": "code",
      "execution_count": null,
      "metadata": {
        "id": "EbcizFda56lG"
      },
      "outputs": [],
      "source": [
        "#Réponse \n",
        "#\n",
        "#\n",
        "#\n",
        "#\n",
        "#\n",
        "#\n",
        "#"
      ]
    },
    {
      "cell_type": "markdown",
      "metadata": {
        "id": "NYpDbQrB56lG"
      },
      "source": [
        "#### <span style='color: #a13203; font-weight: 600;'>💬 Question 2 </span> Entrainez le modèle précédent sur vos données d'entrainement"
      ]
    },
    {
      "cell_type": "code",
      "execution_count": null,
      "metadata": {
        "id": "mDMtD_e856lH"
      },
      "outputs": [],
      "source": [
        "#Réponse \n",
        "#\n",
        "#\n",
        "#\n",
        "#\n",
        "#\n",
        "#\n",
        "#"
      ]
    },
    {
      "cell_type": "markdown",
      "metadata": {
        "id": "j8jtvJUk56lH"
      },
      "source": [
        "## Prédiction\n",
        "\n",
        "#### <span style='color: #a13203; font-weight: 600;'>💬 Question 3 </span> Calculer le C-index sur la base de test"
      ]
    },
    {
      "cell_type": "code",
      "execution_count": null,
      "metadata": {
        "id": "lUj5b89C56lH"
      },
      "outputs": [],
      "source": [
        "#Réponse \n",
        "#\n",
        "#\n",
        "#\n",
        "#\n",
        "#\n",
        "#\n",
        "#"
      ]
    },
    {
      "cell_type": "markdown",
      "metadata": {
        "id": "vwgo0Llc56lH"
      },
      "source": [
        "#### <span style='color: #a13203; font-weight: 600;'>💬 Question 4 </span> Afficher les scores de risque des 5 premiers patients de la base et interpréter"
      ]
    },
    {
      "cell_type": "code",
      "execution_count": null,
      "metadata": {
        "id": "G_Fmm2ja56lH"
      },
      "outputs": [],
      "source": [
        "#Réponse \n",
        "#\n",
        "#\n",
        "#\n",
        "#\n",
        "#\n",
        "#\n",
        "#"
      ]
    },
    {
      "cell_type": "markdown",
      "metadata": {
        "id": "gYmfkmsM56lI"
      },
      "source": [
        "Le patient 2 semble être le plus à risque de décéder. A l'inverse le patient 4 semble à faible risque de décès. \n",
        "\n",
        "#### <span style='color: #a13203; font-weight: 600;'>💬 Question 5 </span> Evaluer les fonctions de survie des 5 premiers patients et les représenter graphiquement"
      ]
    },
    {
      "cell_type": "code",
      "execution_count": null,
      "metadata": {
        "id": "rxBPws0256lI"
      },
      "outputs": [],
      "source": [
        "#Réponse \n",
        "#\n",
        "#\n",
        "#\n",
        "#\n",
        "#\n",
        "#\n",
        "#"
      ]
    },
    {
      "cell_type": "markdown",
      "metadata": {
        "id": "NBp1MCuy56lI"
      },
      "source": [
        "#### <span style='color: #a13203; font-weight: 600;'>💬 Question 6 </span> Evaluer les incidences cumulées des 5 premiers patients et les représenter graphiquement"
      ]
    },
    {
      "cell_type": "code",
      "execution_count": null,
      "metadata": {
        "id": "f6WBWads56lI"
      },
      "outputs": [],
      "source": [
        "#Réponse \n",
        "#\n",
        "#\n",
        "#\n",
        "#\n",
        "#\n",
        "#\n",
        "#"
      ]
    },
    {
      "cell_type": "markdown",
      "metadata": {
        "id": "CJSWF2sR56lJ"
      },
      "source": [
        "## Influence des variables"
      ]
    },
    {
      "cell_type": "code",
      "execution_count": null,
      "metadata": {
        "colab": {
          "base_uri": "https://localhost:8080/"
        },
        "id": "wchAg4OUxy_j",
        "outputId": "d90771ff-4e8b-45e8-a8c4-c50f31981957"
      },
      "outputs": [
        {
          "name": "stdout",
          "output_type": "stream",
          "text": [
            "Collecting eli5\n",
            "  Downloading eli5-0.11.0-py2.py3-none-any.whl (106 kB)\n",
            "\u001b[?25l\r\u001b[K     |███                             | 10 kB 22.4 MB/s eta 0:00:01\r\u001b[K     |██████▏                         | 20 kB 21.1 MB/s eta 0:00:01\r\u001b[K     |█████████▎                      | 30 kB 24.6 MB/s eta 0:00:01\r\u001b[K     |████████████▍                   | 40 kB 17.1 MB/s eta 0:00:01\r\u001b[K     |███████████████▌                | 51 kB 17.6 MB/s eta 0:00:01\r\u001b[K     |██████████████████▌             | 61 kB 14.0 MB/s eta 0:00:01\r\u001b[K     |█████████████████████▋          | 71 kB 11.6 MB/s eta 0:00:01\r\u001b[K     |████████████████████████▊       | 81 kB 12.7 MB/s eta 0:00:01\r\u001b[K     |███████████████████████████▉    | 92 kB 13.9 MB/s eta 0:00:01\r\u001b[K     |███████████████████████████████ | 102 kB 14.9 MB/s eta 0:00:01\r\u001b[K     |████████████████████████████████| 106 kB 14.9 MB/s \n",
            "\u001b[?25hRequirement already satisfied: scipy in /usr/local/lib/python3.7/dist-packages (from eli5) (1.4.1)\n",
            "Requirement already satisfied: tabulate>=0.7.7 in /usr/local/lib/python3.7/dist-packages (from eli5) (0.8.9)\n",
            "Requirement already satisfied: graphviz in /usr/local/lib/python3.7/dist-packages (from eli5) (0.10.1)\n",
            "Requirement already satisfied: six in /usr/local/lib/python3.7/dist-packages (from eli5) (1.15.0)\n",
            "Requirement already satisfied: attrs>16.0.0 in /usr/local/lib/python3.7/dist-packages (from eli5) (21.4.0)\n",
            "Requirement already satisfied: jinja2 in /usr/local/lib/python3.7/dist-packages (from eli5) (2.11.3)\n",
            "Requirement already satisfied: numpy>=1.9.0 in /usr/local/lib/python3.7/dist-packages (from eli5) (1.19.5)\n",
            "Requirement already satisfied: scikit-learn>=0.20 in /usr/local/lib/python3.7/dist-packages (from eli5) (1.0.2)\n",
            "Requirement already satisfied: joblib>=0.11 in /usr/local/lib/python3.7/dist-packages (from scikit-learn>=0.20->eli5) (1.1.0)\n",
            "Requirement already satisfied: threadpoolctl>=2.0.0 in /usr/local/lib/python3.7/dist-packages (from scikit-learn>=0.20->eli5) (3.0.0)\n",
            "Requirement already satisfied: MarkupSafe>=0.23 in /usr/local/lib/python3.7/dist-packages (from jinja2->eli5) (2.0.1)\n",
            "Installing collected packages: eli5\n",
            "Successfully installed eli5-0.11.0\n"
          ]
        }
      ],
      "source": [
        "! pip install -U eli5"
      ]
    },
    {
      "cell_type": "code",
      "execution_count": null,
      "metadata": {
        "id": "ZigYpKMC56lM"
      },
      "outputs": [],
      "source": [
        "import eli5\n",
        "from eli5.sklearn import PermutationImportance"
      ]
    },
    {
      "cell_type": "code",
      "execution_count": null,
      "metadata": {
        "id": "f2hPqR3356lM"
      },
      "outputs": [],
      "source": [
        "#Réponse \n",
        "#\n",
        "#\n",
        "#\n",
        "#\n",
        "#\n",
        "#\n",
        "#"
      ]
    }
  ],
  "metadata": {
    "colab": {
      "collapsed_sections": [],
      "name": "TP5.ipynb",
      "provenance": []
    },
    "kernelspec": {
      "display_name": "Python 3",
      "language": "python",
      "name": "python3"
    },
    "language_info": {
      "codemirror_mode": {
        "name": "ipython",
        "version": 3
      },
      "file_extension": ".py",
      "mimetype": "text/x-python",
      "name": "python",
      "nbconvert_exporter": "python",
      "pygments_lexer": "ipython3",
      "version": "3.8.5"
    },
    "toc": {
      "base_numbering": 1,
      "nav_menu": {},
      "number_sections": true,
      "sideBar": true,
      "skip_h1_title": false,
      "title_cell": "Table of Contents",
      "title_sidebar": "Contents",
      "toc_cell": false,
      "toc_position": {},
      "toc_section_display": true,
      "toc_window_display": false
    }
  },
  "nbformat": 4,
  "nbformat_minor": 0
}
